{
 "cells": [
  {
   "cell_type": "markdown",
   "metadata": {},
   "source": [
    "## Create a DataFrame from the Liquid Limit Test Data"
   ]
  },
  {
   "cell_type": "code",
   "execution_count": 2,
   "metadata": {},
   "outputs": [
    {
     "name": "stdout",
     "output_type": "stream",
     "text": [
      "   Number of Blows  Moisture Content (%)\n",
      "0               15                  48.5\n",
      "1               20                  46.9\n",
      "2               28                  45.2\n"
     ]
    }
   ],
   "source": [
    "import pandas as pd\n",
    "\n",
    "df = pd.DataFrame({\"Number of Blows\": [15, 20, 28], \"Moisture Content (%)\": [48.5, 46.9, 45.2]})\n",
    "print(df)"
   ]
  },
  {
   "cell_type": "markdown",
   "metadata": {},
   "source": [
    "## Determine the Best Fit Flow Curve"
   ]
  },
  {
   "cell_type": "code",
   "execution_count": 3,
   "metadata": {},
   "outputs": [
    {
     "name": "stdout",
     "output_type": "stream",
     "text": [
      "-0.24999999999999958 52.116666666666674\n"
     ]
    }
   ],
   "source": [
    "import numpy as np\n",
    "m, b = np.polyfit(df[\"Number of Blows\"], df[\"Moisture Content (%)\"], 1)\n",
    "print(m,b)\n"
   ]
  },
  {
   "cell_type": "markdown",
   "metadata": {},
   "source": [
    "## Plot the Flow Curve and Determine the Liquid Limit"
   ]
  },
  {
   "cell_type": "code",
   "execution_count": 29,
   "metadata": {},
   "outputs": [
    {
     "data": {
      "text/plain": [
       "Text(0.5, 1.0, 'Soil Flow Curve')"
      ]
     },
     "execution_count": 29,
     "metadata": {},
     "output_type": "execute_result"
    },
    {
     "data": {
      "image/png": "[encoded data removed]",
      "text/plain": [
       "<Figure size 432x288 with 1 Axes>"
      ]
     },
     "metadata": {
      "needs_background": "light"
     },
     "output_type": "display_data"
    }
   ],
   "source": [
    "import matplotlib.pyplot as plt\n",
    "%matplotlib inline\n",
    "\n",
    "plt.plot(df[\"Number of Blows\"], df[\"Moisture Content (%)\"], lw=0, marker=\"o\", mec=\"black\")\n",
    "plt.plot(df[\"Number of Blows\"], m*df[\"Number of Blows\"] + b, color=\"g\")\n",
    "plt.xlim(10,100)\n",
    "plt.ylim(30,60)\n",
    "plt.xscale(\"log\")\n",
    "plt.xlabel(\"Number of Blows -- Log Scale\")\n",
    "plt.ylabel(\"Moisture Content (%)\")\n",
    "plt.title(\"Soil Flow Curve\")"
   ]
  },
  {
   "cell_type": "code",
   "execution_count": null,
   "metadata": {},
   "outputs": [],
   "source": []
  }
 ],
 "metadata": {
  "kernelspec": {
   "display_name": "Python 3",
   "language": "python",
   "name": "python3"
  },
  "language_info": {
   "codemirror_mode": {
    "name": "ipython",
    "version": 3
   },
   "file_extension": ".py",
   "mimetype": "text/x-python",
   "name": "python",
   "nbconvert_exporter": "python",
   "pygments_lexer": "ipython3",
   "version": "3.8.5"
  }
 },
 "nbformat": 4,
 "nbformat_minor": 4
}
